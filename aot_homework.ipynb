{
 "cells": [
  {
   "cell_type": "markdown",
   "metadata": {},
   "source": [
    "## Задание E.\n",
    "## Гайнутдинова Диана, группа 144."
   ]
  },
  {
   "cell_type": "markdown",
   "metadata": {},
   "source": [
    "В данном задании предлагается выполнить статистический анализ двух текстов на русском языке:\n",
    "    \n",
    "    \n",
    "    1) текст главы 2 из книги Льюиса Кэрролла «Алиса в Стране Чудес»\n",
    "    2) текст по выбору.\n",
    "\n",
    "В первую очередь будем рассматривать текст из книги Льюиса Кэррола. Он прикреплен к отчету в текстовом файле под названием alice.txt.\n",
    "В задании было предложено выбрать морфопроцессор. Здесь будет использоваться pymorphy, написанном на Python."
   ]
  },
  {
   "cell_type": "code",
   "execution_count": 272,
   "metadata": {},
   "outputs": [],
   "source": [
    "import pymorphy2\n",
    "import string\n",
    "import pandas as pd\n",
    "morph = pymorphy2.MorphAnalyzer()\n"
   ]
  },
  {
   "cell_type": "markdown",
   "metadata": {
    "collapsed": true
   },
   "source": [
    "    \n",
    "Для начала нам важно выделить все словоформы данного текста. Если разделить текст по пробелам, то в нашем списке словоформы будут \n",
    "выглядеть не совсем правильно. Например, слова, после которых стоит знак препинания будут записаны вместе с ним. Нужно обработать наш \n",
    "список словоформ так, чтобы с ним можно было работать в дальнейшем. Ниже приведены этапы обработки. "
   ]
  },
  {
   "cell_type": "code",
   "execution_count": 273,
   "metadata": {},
   "outputs": [],
   "source": [
    "alice_text = open(\"/Users/dianagajnutdinova/alice.txt\").read()\n",
    "words = alice_text.split()"
   ]
  },
  {
   "cell_type": "markdown",
   "metadata": {},
   "source": [
    "В ячейке ниже мы получаем список разделенных слов. Теперь нам нужно провести анализ всех словоформ. Сделаем таблицу из нашего анализа. \n",
    "Однако стоит заметить, что в списке много повторений, например одинаковые предлоги встречаются очень много раз. Поэтому нам стоит\n",
    "сделать уникальное множество словоформ."
   ]
  },
  {
   "cell_type": "code",
   "execution_count": 274,
   "metadata": {
    "collapsed": true
   },
   "outputs": [],
   "source": [
    "exclude = set(string.punctuation)\n",
    "exclude.add('- ')\n",
    "exclude.remove('-')\n",
    "def test_set(s):\n",
    "    return ''.join(ch for ch in s if ch not in exclude)\n",
    "words = [test_set(i) for i in words]\n",
    "words = [i for i in words if i != '' ]"
   ]
  },
  {
   "cell_type": "code",
   "execution_count": 275,
   "metadata": {},
   "outputs": [
    {
     "name": "stdout",
     "output_type": "stream",
     "text": [
      "2216 длина неуникального списка\n",
      "1048 длина уникального списка\n"
     ]
    }
   ],
   "source": [
    "print (len(words), 'длина неуникального списка')\n",
    "forms = set(words)\n",
    "print (len(forms), 'длина уникального списка')\n"
   ]
  },
  {
   "cell_type": "markdown",
   "metadata": {},
   "source": [
    "Длина списка сократилась практически в два раза после того, как мы убрали повторения. Давайте теперь займемся созданием таблицы с анализом всех словоформ текста. "
   ]
  },
  {
   "cell_type": "code",
   "execution_count": 276,
   "metadata": {},
   "outputs": [],
   "source": [
    "forms = list(forms)\n",
    "bias = pd.DataFrame(columns=['Слово','Часть речи','Одушевленность', 'Вид','Падеж','Род','Наклонение','Число',\n",
    "                             'Лицо','Время','Переходность','Залог','Нормальная форма'],\n",
    "                      index=[i for i in range(len(forms))])"
   ]
  },
  {
   "cell_type": "code",
   "execution_count": 277,
   "metadata": {},
   "outputs": [],
   "source": [
    "bias[\"Слово\"] = forms\n",
    "bias[\"Часть речи\"] = [morph.parse(i)[0].tag.POS for i in forms]\n",
    "bias['Одушевленность'] = [morph.parse(i)[0].tag.animacy for i in forms]\n",
    "bias['Вид'] = [morph.parse(i)[0].tag.aspect for i in forms]\n",
    "bias['Падеж'] = [morph.parse(i)[0].tag.case for i in forms]\n",
    "bias['Род'] = [morph.parse(i)[0].tag.gender for i in forms]\n",
    "bias['Наклонение'] = [morph.parse(i)[0].tag.mood for i in forms]\n",
    "bias['Число'] = [morph.parse(i)[0].tag.number for i in forms]\n",
    "bias['Лицо'] = [morph.parse(i)[0].tag.person for i in forms]\n",
    "bias['Время'] = [morph.parse(i)[0].tag.tense for i in forms]\n",
    "bias['Переходность'] = [morph.parse(i)[0].tag.transitivity for i in forms]\n",
    "bias['Залог'] = [morph.parse(i)[0].tag.voice for i in forms]\n",
    "bias[\"Нормальная форма\"] = [morph.parse(i)[0].normal_form for i in forms]"
   ]
  },
  {
   "cell_type": "code",
   "execution_count": 278,
   "metadata": {
    "collapsed": true
   },
   "outputs": [],
   "source": [
    "bias.to_html(\"alice.html\")"
   ]
  },
  {
   "cell_type": "markdown",
   "metadata": {},
   "source": [
    "Таблица оформлена. Для удобства ее лучше посмотреть в отдельном файле, который называется alice.html.\n",
    "Каждое словоформа содержит 12 признаков, такие как часть речи, вид, время, залог и т. д.\n"
   ]
  },
  {
   "cell_type": "markdown",
   "metadata": {},
   "source": [
    "Теперь соберем статистические характеристики текста. Всего будут подсчитаны 9 характеристик. \n",
    "\n",
    "\n",
    "1) Длина предложения.\n",
    "\n",
    "\n",
    "2) Наиболее частый падеж.\n",
    "\n",
    "\n",
    "3) Относительная частота падежей.\n",
    "\n",
    "\n",
    "4) Процент разных частей речи.\n",
    "\n",
    "\n",
    "5) Самые частотные слова и их относительная частота.\n",
    "\n",
    "\n",
    "6) Самые частотные слова основных частей речи (существительные, прилагательные, наречия, глаголы).\n",
    "\n",
    "\n",
    "7) Общее число словоупотреблений. (число слов в тексте)\n",
    "\n",
    "\n",
    "8) Число различных словоформ.\n",
    "\n",
    "\n",
    "9) Наиболее частотные морфологические формы глаголов (время/лицо/число).\n",
    "\n",
    "Для того, чтобы посчитать все интересные нам характеристики, нужно немного исправить таблицу.\n"
   ]
  },
  {
   "cell_type": "code",
   "execution_count": 279,
   "metadata": {
    "collapsed": true
   },
   "outputs": [],
   "source": [
    "new_bias = pd.DataFrame(columns=['Слово','Часть речи','Одушевленность', 'Вид','Падеж','Род','Наклонение','Число',\n",
    "                             'Лицо','Время','Переходность','Залог','Нормальная форма'],\n",
    "                      index=[i for i in range(len(words))])\n",
    "new_bias[\"Слово\"] = words\n",
    "new_bias[\"Часть речи\"] = [morph.parse(i)[0].tag.POS for i in words]\n",
    "new_bias['Одушевленность'] = [morph.parse(i)[0].tag.animacy for i in words]\n",
    "new_bias['Вид'] = [morph.parse(i)[0].tag.aspect for i in words]\n",
    "new_bias['Падеж'] = [morph.parse(i)[0].tag.case for i in words]\n",
    "new_bias['Род'] = [morph.parse(i)[0].tag.gender for i in words]\n",
    "new_bias['Наклонение'] = [morph.parse(i)[0].tag.mood for i in words]\n",
    "new_bias['Число'] = [morph.parse(i)[0].tag.number for i in words]\n",
    "new_bias['Лицо'] = [morph.parse(i)[0].tag.person for i in words]\n",
    "new_bias['Время'] = [morph.parse(i)[0].tag.tense for i in words]\n",
    "new_bias['Переходность'] = [morph.parse(i)[0].tag.transitivity for i in words]\n",
    "new_bias['Залог'] = [morph.parse(i)[0].tag.voice for i in words]\n",
    "new_bias[\"Нормальная форма\"] = [morph.parse(i)[0].normal_form for i in words]"
   ]
  },
  {
   "cell_type": "markdown",
   "metadata": {},
   "source": [
    "### 1) Длина предложения."
   ]
  },
  {
   "cell_type": "code",
   "execution_count": 280,
   "metadata": {},
   "outputs": [
    {
     "data": {
      "text/plain": [
       "146"
      ]
     },
     "execution_count": 280,
     "metadata": {},
     "output_type": "execute_result"
    }
   ],
   "source": [
    "len(alice_text.replace('\\n   ','').split('.'))\n"
   ]
  },
  {
   "cell_type": "markdown",
   "metadata": {
    "collapsed": true
   },
   "source": [
    " Выше мы высчитываем количество предложений в тексте - 146. Посчитаем длину каждого предложения, а потом вычислим среднюю длину.\n"
   ]
  },
  {
   "cell_type": "code",
   "execution_count": 281,
   "metadata": {},
   "outputs": [
    {
     "data": {
      "text/plain": [
       "18.04794520547945"
      ]
     },
     "execution_count": 281,
     "metadata": {},
     "output_type": "execute_result"
    }
   ],
   "source": [
    "lens = [len(i.split(' ')) for i in alice_text.replace('\\n   ','').split('.')]\n",
    "c = 0\n",
    "for i in lens:\n",
    "    c += i\n",
    "c/len(alice_text.replace('\\n   ','').split('.'))"
   ]
  },
  {
   "cell_type": "markdown",
   "metadata": {},
   "source": [
    "Получаем, что средняя длина предложений - 18 слов. "
   ]
  },
  {
   "cell_type": "markdown",
   "metadata": {},
   "source": [
    "### 2) Наиболее частый падеж."
   ]
  },
  {
   "cell_type": "code",
   "execution_count": 282,
   "metadata": {},
   "outputs": [
    {
     "data": {
      "text/plain": [
       "count      787\n",
       "unique       8\n",
       "top       nomn\n",
       "freq       385\n",
       "Name: Падеж, dtype: object"
      ]
     },
     "execution_count": 282,
     "metadata": {},
     "output_type": "execute_result"
    }
   ],
   "source": [
    "new_bias[\"Падеж\"].describe()"
   ]
  },
  {
   "cell_type": "markdown",
   "metadata": {},
   "source": [
    "Nominative case(именительный падеж) - самый частый падеж среди слов данного текста. Он встречается 385 раз из 787 слов, \n",
    "у которых анализатор смог определить падеж. Это состоявляет практически 48%."
   ]
  },
  {
   "cell_type": "markdown",
   "metadata": {},
   "source": [
    "### 3) Относительная частота падежей."
   ]
  },
  {
   "cell_type": "code",
   "execution_count": 283,
   "metadata": {},
   "outputs": [
    {
     "data": {
      "text/html": [
       "<div>\n",
       "<style>\n",
       "    .dataframe thead tr:only-child th {\n",
       "        text-align: right;\n",
       "    }\n",
       "\n",
       "    .dataframe thead th {\n",
       "        text-align: left;\n",
       "    }\n",
       "\n",
       "    .dataframe tbody tr th {\n",
       "        vertical-align: top;\n",
       "    }\n",
       "</style>\n",
       "<table border=\"1\" class=\"dataframe\">\n",
       "  <thead>\n",
       "    <tr style=\"text-align: right;\">\n",
       "      <th></th>\n",
       "      <th>Частота</th>\n",
       "    </tr>\n",
       "  </thead>\n",
       "  <tbody>\n",
       "    <tr>\n",
       "      <th>Именительный падеж</th>\n",
       "      <td>0.489199</td>\n",
       "    </tr>\n",
       "    <tr>\n",
       "      <th>Родительный падеж</th>\n",
       "      <td>0.177891</td>\n",
       "    </tr>\n",
       "    <tr>\n",
       "      <th>Винительный падеж</th>\n",
       "      <td>0.139771</td>\n",
       "    </tr>\n",
       "    <tr>\n",
       "      <th>Дательный падеж</th>\n",
       "      <td>0.069886</td>\n",
       "    </tr>\n",
       "    <tr>\n",
       "      <th>Творительный падеж</th>\n",
       "      <td>0.058450</td>\n",
       "    </tr>\n",
       "    <tr>\n",
       "      <th>Предложный падеж</th>\n",
       "      <td>0.062262</td>\n",
       "    </tr>\n",
       "  </tbody>\n",
       "</table>\n",
       "</div>"
      ],
      "text/plain": [
       "                     Частота\n",
       "Именительный падеж  0.489199\n",
       "Родительный падеж   0.177891\n",
       "Винительный падеж   0.139771\n",
       "Дательный падеж     0.069886\n",
       "Творительный падеж  0.058450\n",
       "Предложный падеж    0.062262"
      ]
     },
     "execution_count": 283,
     "metadata": {},
     "output_type": "execute_result"
    }
   ],
   "source": [
    "\n",
    "cases_table = pd.DataFrame(columns=['Частота'], index = ['Именительный падеж',\n",
    "'Родительный падеж','Винительный падеж','Дательный падеж','Творительный падеж','Предложный падеж'])\n",
    "freq = [len(new_bias[new_bias[\"Падеж\"]=='nomn'])/787, len(new_bias[new_bias[\"Падеж\"]=='gent'])/787,len(new_bias[new_bias[\"Падеж\"]=='accs'])/787,\n",
    "       len(new_bias[new_bias[\"Падеж\"]=='datv'])/787,len(new_bias[new_bias[\"Падеж\"]=='ablt'])/787,len(new_bias[new_bias[\"Падеж\"]=='loct'])/787]\n",
    "cases_table['Частота'] = freq\n",
    "cases_table"
   ]
  },
  {
   "cell_type": "markdown",
   "metadata": {},
   "source": [
    "Выше можно увидеть табличку, в которой описаны частоты встречаемых падежей. Наиболее редкий падеж - Предложный падеж."
   ]
  },
  {
   "cell_type": "markdown",
   "metadata": {},
   "source": [
    "### 4) Процент разных частей речи."
   ]
  },
  {
   "cell_type": "code",
   "execution_count": 284,
   "metadata": {},
   "outputs": [
    {
     "data": {
      "text/html": [
       "<div>\n",
       "<style>\n",
       "    .dataframe thead tr:only-child th {\n",
       "        text-align: right;\n",
       "    }\n",
       "\n",
       "    .dataframe thead th {\n",
       "        text-align: left;\n",
       "    }\n",
       "\n",
       "    .dataframe tbody tr th {\n",
       "        vertical-align: top;\n",
       "    }\n",
       "</style>\n",
       "<table border=\"1\" class=\"dataframe\">\n",
       "  <thead>\n",
       "    <tr style=\"text-align: right;\">\n",
       "      <th></th>\n",
       "      <th>Процентное содержание</th>\n",
       "    </tr>\n",
       "  </thead>\n",
       "  <tbody>\n",
       "    <tr>\n",
       "      <th>Глагол</th>\n",
       "      <td>41.296061</td>\n",
       "    </tr>\n",
       "    <tr>\n",
       "      <th>Существительное</th>\n",
       "      <td>46.378653</td>\n",
       "    </tr>\n",
       "    <tr>\n",
       "      <th>Прилагательное (полное)</th>\n",
       "      <td>24.523507</td>\n",
       "    </tr>\n",
       "    <tr>\n",
       "      <th>Местоимение-существительное</th>\n",
       "      <td>27.445997</td>\n",
       "    </tr>\n",
       "    <tr>\n",
       "      <th>Причастие (полное)</th>\n",
       "      <td>0.381194</td>\n",
       "    </tr>\n",
       "    <tr>\n",
       "      <th>Предлог</th>\n",
       "      <td>20.076239</td>\n",
       "    </tr>\n",
       "    <tr>\n",
       "      <th>Деепричастие</th>\n",
       "      <td>1.270648</td>\n",
       "    </tr>\n",
       "    <tr>\n",
       "      <th>Наречие</th>\n",
       "      <td>26.175349</td>\n",
       "    </tr>\n",
       "    <tr>\n",
       "      <th>Глагол (инфинитив)</th>\n",
       "      <td>8.259212</td>\n",
       "    </tr>\n",
       "    <tr>\n",
       "      <th>Частица</th>\n",
       "      <td>23.634053</td>\n",
       "    </tr>\n",
       "    <tr>\n",
       "      <th>Прилагательное (краткое)</th>\n",
       "      <td>1.905972</td>\n",
       "    </tr>\n",
       "    <tr>\n",
       "      <th>Союз</th>\n",
       "      <td>36.340534</td>\n",
       "    </tr>\n",
       "    <tr>\n",
       "      <th>Причастие (краткое)</th>\n",
       "      <td>0.508259</td>\n",
       "    </tr>\n",
       "    <tr>\n",
       "      <th>Числительное</th>\n",
       "      <td>1.270648</td>\n",
       "    </tr>\n",
       "    <tr>\n",
       "      <th>Предикатив</th>\n",
       "      <td>0.889454</td>\n",
       "    </tr>\n",
       "    <tr>\n",
       "      <th>Компаратив</th>\n",
       "      <td>2.160102</td>\n",
       "    </tr>\n",
       "    <tr>\n",
       "      <th>Междометие</th>\n",
       "      <td>2.287166</td>\n",
       "    </tr>\n",
       "  </tbody>\n",
       "</table>\n",
       "</div>"
      ],
      "text/plain": [
       "                             Процентное содержание\n",
       "Глагол                                   41.296061\n",
       "Существительное                          46.378653\n",
       "Прилагательное (полное)                  24.523507\n",
       "Местоимение-существительное              27.445997\n",
       "Причастие (полное)                        0.381194\n",
       "Предлог                                  20.076239\n",
       "Деепричастие                              1.270648\n",
       "Наречие                                  26.175349\n",
       "Глагол (инфинитив)                        8.259212\n",
       "Частица                                  23.634053\n",
       "Прилагательное (краткое)                  1.905972\n",
       "Союз                                     36.340534\n",
       "Причастие (краткое)                       0.508259\n",
       "Числительное                              1.270648\n",
       "Предикатив                                0.889454\n",
       "Компаратив                                2.160102\n",
       "Междометие                                2.287166"
      ]
     },
     "execution_count": 284,
     "metadata": {},
     "output_type": "execute_result"
    }
   ],
   "source": [
    "speech = ['Глагол','Существительное','Прилагательное (полное)','Местоимение-существительное','Причастие (полное)','Предлог',\n",
    " 'Деепричастие','Наречие','Глагол (инфинитив)','Частица','Прилагательное (краткое)','Союз','Причастие (краткое)','Числительное',\n",
    " 'Предикатив' ,'Компаратив' ,'Междометие']\n",
    "speech_part_table = pd.DataFrame(columns=['Процентное содержание'], index = speech)\n",
    "en_speech = ['VERB', 'NOUN', 'ADJF', 'NPRO', 'PRTF', 'PREP',  'GRND',\n",
    "       'ADVB', 'INFN', 'PRCL', 'ADJS', 'CONJ', 'PRTS', 'NUMR', 'PRED',\n",
    "       'COMP', 'INTJ']\n",
    "freq = [len(new_bias[new_bias[\"Часть речи\"]==i])/787*100 for i in en_speech]\n",
    "speech_part_table['Процентное содержание'] = freq\n",
    "speech_part_table"
   ]
  },
  {
   "cell_type": "markdown",
   "metadata": {},
   "source": [
    "Наиболее часто встречаемая часть речи - существительное, состовляющее почти 50 процентов. Наименее часто встречаемая - Причастие (меньше одного процента."
   ]
  },
  {
   "cell_type": "markdown",
   "metadata": {},
   "source": [
    "### 5) Самые частотные слова и их относительная частота."
   ]
  },
  {
   "cell_type": "code",
   "execution_count": 285,
   "metadata": {
    "collapsed": true
   },
   "outputs": [],
   "source": [
    "from collections import Counter\n",
    "exclude = set(string.punctuation)\n",
    "def test_set(s):\n",
    "    return ''.join(ch for ch in s if ch not in exclude)\n",
    "words = alice_text.split()\n",
    "words = [test_set(i) for i in words]\n",
    "words = [i for i in words if i != '']\n",
    "cap_words = [word.upper() for word in words] #capitalizes all the words\n",
    "\n",
    "word_counts = Counter(cap_words) "
   ]
  },
  {
   "cell_type": "code",
   "execution_count": 286,
   "metadata": {},
   "outputs": [
    {
     "name": "stdout",
     "output_type": "stream",
     "text": [
      "('И', 97) 0.04547585560243788\n",
      "('НЕ', 67) 0.031411157993436474\n",
      "('ОНА', 59) 0.027660571964369433\n",
      "('В', 47) 0.02203469292076887\n",
      "('Я', 44) 0.02062822315986873\n",
      "('ЧТО', 38) 0.017815283638068447\n",
      "('АЛИСА', 37) 0.017346460384435068\n",
      "('А', 31) 0.014533520862634786\n",
      "('ТАК', 25) 0.011720581340834505\n",
      "('ЭТО', 24) 0.011251758087201125\n"
     ]
    }
   ],
   "source": [
    "for i in range(10):\n",
    "    print ((word_counts.most_common()[i]), word_counts.most_common()[i][1]/len(words))"
   ]
  },
  {
   "cell_type": "markdown",
   "metadata": {},
   "source": [
    "Выше представлены наиболее частые слова, число их встречаний в тексте, а также частота их появлений.\n",
    "Как видно из списка, наиболее частое слово - предлог 'и', встречающийся 97 раза. Одако это состовляет всего лишь 0.04 процента.\n",
    "Логично, что предлоги в тексте встречаются чаще всех остальных слов."
   ]
  },
  {
   "cell_type": "markdown",
   "metadata": {},
   "source": [
    "### 6) Самые частотные слова основных частей речи (существительные, прилагательные, наречия, глаголы)."
   ]
  },
  {
   "cell_type": "code",
   "execution_count": 287,
   "metadata": {},
   "outputs": [
    {
     "data": {
      "text/html": [
       "<div>\n",
       "<style>\n",
       "    .dataframe thead tr:only-child th {\n",
       "        text-align: right;\n",
       "    }\n",
       "\n",
       "    .dataframe thead th {\n",
       "        text-align: left;\n",
       "    }\n",
       "\n",
       "    .dataframe tbody tr th {\n",
       "        vertical-align: top;\n",
       "    }\n",
       "</style>\n",
       "<table border=\"1\" class=\"dataframe\">\n",
       "  <thead>\n",
       "    <tr style=\"text-align: right;\">\n",
       "      <th></th>\n",
       "      <th>Слово</th>\n",
       "      <th>Часть речи</th>\n",
       "      <th>Одушевленность</th>\n",
       "      <th>Вид</th>\n",
       "      <th>Падеж</th>\n",
       "      <th>Род</th>\n",
       "      <th>Наклонение</th>\n",
       "      <th>Число</th>\n",
       "      <th>Лицо</th>\n",
       "      <th>Время</th>\n",
       "      <th>Переходность</th>\n",
       "      <th>Залог</th>\n",
       "      <th>Нормальная форма</th>\n",
       "    </tr>\n",
       "  </thead>\n",
       "  <tbody>\n",
       "    <tr>\n",
       "      <th>count</th>\n",
       "      <td>365</td>\n",
       "      <td>365</td>\n",
       "      <td>365</td>\n",
       "      <td>0.0</td>\n",
       "      <td>365</td>\n",
       "      <td>364</td>\n",
       "      <td>0.0</td>\n",
       "      <td>365</td>\n",
       "      <td>0.0</td>\n",
       "      <td>0.0</td>\n",
       "      <td>0.0</td>\n",
       "      <td>0.0</td>\n",
       "      <td>365</td>\n",
       "    </tr>\n",
       "    <tr>\n",
       "      <th>unique</th>\n",
       "      <td>265</td>\n",
       "      <td>1</td>\n",
       "      <td>2</td>\n",
       "      <td>0.0</td>\n",
       "      <td>8</td>\n",
       "      <td>3</td>\n",
       "      <td>0.0</td>\n",
       "      <td>2</td>\n",
       "      <td>0.0</td>\n",
       "      <td>0.0</td>\n",
       "      <td>0.0</td>\n",
       "      <td>0.0</td>\n",
       "      <td>214</td>\n",
       "    </tr>\n",
       "    <tr>\n",
       "      <th>top</th>\n",
       "      <td>Алиса</td>\n",
       "      <td>NOUN</td>\n",
       "      <td>inan</td>\n",
       "      <td>NaN</td>\n",
       "      <td>nomn</td>\n",
       "      <td>femn</td>\n",
       "      <td>NaN</td>\n",
       "      <td>sing</td>\n",
       "      <td>NaN</td>\n",
       "      <td>NaN</td>\n",
       "      <td>NaN</td>\n",
       "      <td>NaN</td>\n",
       "      <td>алиса</td>\n",
       "    </tr>\n",
       "    <tr>\n",
       "      <th>freq</th>\n",
       "      <td>28</td>\n",
       "      <td>365</td>\n",
       "      <td>246</td>\n",
       "      <td>NaN</td>\n",
       "      <td>139</td>\n",
       "      <td>181</td>\n",
       "      <td>NaN</td>\n",
       "      <td>317</td>\n",
       "      <td>NaN</td>\n",
       "      <td>NaN</td>\n",
       "      <td>NaN</td>\n",
       "      <td>NaN</td>\n",
       "      <td>29</td>\n",
       "    </tr>\n",
       "  </tbody>\n",
       "</table>\n",
       "</div>"
      ],
      "text/plain": [
       "        Слово Часть речи Одушевленность  Вид Падеж   Род  Наклонение Число  \\\n",
       "count     365        365            365  0.0   365   364         0.0   365   \n",
       "unique    265          1              2  0.0     8     3         0.0     2   \n",
       "top     Алиса       NOUN           inan  NaN  nomn  femn         NaN  sing   \n",
       "freq       28        365            246  NaN   139   181         NaN   317   \n",
       "\n",
       "        Лицо  Время  Переходность  Залог Нормальная форма  \n",
       "count    0.0    0.0           0.0    0.0              365  \n",
       "unique   0.0    0.0           0.0    0.0              214  \n",
       "top      NaN    NaN           NaN    NaN            алиса  \n",
       "freq     NaN    NaN           NaN    NaN               29  "
      ]
     },
     "execution_count": 287,
     "metadata": {},
     "output_type": "execute_result"
    }
   ],
   "source": [
    "nouns = new_bias[new_bias[\"Часть речи\"]=='NOUN']\n",
    "nouns.describe()"
   ]
  },
  {
   "cell_type": "markdown",
   "metadata": {},
   "source": [
    "Самое частотное слово среди существительных - Алиса(встречается 28 раз). :))"
   ]
  },
  {
   "cell_type": "code",
   "execution_count": 288,
   "metadata": {},
   "outputs": [
    {
     "data": {
      "text/html": [
       "<div>\n",
       "<style>\n",
       "    .dataframe thead tr:only-child th {\n",
       "        text-align: right;\n",
       "    }\n",
       "\n",
       "    .dataframe thead th {\n",
       "        text-align: left;\n",
       "    }\n",
       "\n",
       "    .dataframe tbody tr th {\n",
       "        vertical-align: top;\n",
       "    }\n",
       "</style>\n",
       "<table border=\"1\" class=\"dataframe\">\n",
       "  <thead>\n",
       "    <tr style=\"text-align: right;\">\n",
       "      <th></th>\n",
       "      <th>Слово</th>\n",
       "      <th>Часть речи</th>\n",
       "      <th>Одушевленность</th>\n",
       "      <th>Вид</th>\n",
       "      <th>Падеж</th>\n",
       "      <th>Род</th>\n",
       "      <th>Наклонение</th>\n",
       "      <th>Число</th>\n",
       "      <th>Лицо</th>\n",
       "      <th>Время</th>\n",
       "      <th>Переходность</th>\n",
       "      <th>Залог</th>\n",
       "      <th>Нормальная форма</th>\n",
       "    </tr>\n",
       "  </thead>\n",
       "  <tbody>\n",
       "    <tr>\n",
       "      <th>count</th>\n",
       "      <td>193</td>\n",
       "      <td>193</td>\n",
       "      <td>6</td>\n",
       "      <td>0.0</td>\n",
       "      <td>193</td>\n",
       "      <td>128</td>\n",
       "      <td>0.0</td>\n",
       "      <td>193</td>\n",
       "      <td>0.0</td>\n",
       "      <td>0.0</td>\n",
       "      <td>0.0</td>\n",
       "      <td>0.0</td>\n",
       "      <td>193</td>\n",
       "    </tr>\n",
       "    <tr>\n",
       "      <th>unique</th>\n",
       "      <td>144</td>\n",
       "      <td>1</td>\n",
       "      <td>1</td>\n",
       "      <td>0.0</td>\n",
       "      <td>6</td>\n",
       "      <td>3</td>\n",
       "      <td>0.0</td>\n",
       "      <td>2</td>\n",
       "      <td>0.0</td>\n",
       "      <td>0.0</td>\n",
       "      <td>0.0</td>\n",
       "      <td>0.0</td>\n",
       "      <td>93</td>\n",
       "    </tr>\n",
       "    <tr>\n",
       "      <th>top</th>\n",
       "      <td>все</td>\n",
       "      <td>ADJF</td>\n",
       "      <td>inan</td>\n",
       "      <td>NaN</td>\n",
       "      <td>nomn</td>\n",
       "      <td>femn</td>\n",
       "      <td>NaN</td>\n",
       "      <td>sing</td>\n",
       "      <td>NaN</td>\n",
       "      <td>NaN</td>\n",
       "      <td>NaN</td>\n",
       "      <td>NaN</td>\n",
       "      <td>весь</td>\n",
       "    </tr>\n",
       "    <tr>\n",
       "      <th>freq</th>\n",
       "      <td>11</td>\n",
       "      <td>193</td>\n",
       "      <td>6</td>\n",
       "      <td>NaN</td>\n",
       "      <td>101</td>\n",
       "      <td>71</td>\n",
       "      <td>NaN</td>\n",
       "      <td>128</td>\n",
       "      <td>NaN</td>\n",
       "      <td>NaN</td>\n",
       "      <td>NaN</td>\n",
       "      <td>NaN</td>\n",
       "      <td>24</td>\n",
       "    </tr>\n",
       "  </tbody>\n",
       "</table>\n",
       "</div>"
      ],
      "text/plain": [
       "       Слово Часть речи Одушевленность  Вид Падеж   Род  Наклонение Число  \\\n",
       "count    193        193              6  0.0   193   128         0.0   193   \n",
       "unique   144          1              1  0.0     6     3         0.0     2   \n",
       "top      все       ADJF           inan  NaN  nomn  femn         NaN  sing   \n",
       "freq      11        193              6  NaN   101    71         NaN   128   \n",
       "\n",
       "        Лицо  Время  Переходность  Залог Нормальная форма  \n",
       "count    0.0    0.0           0.0    0.0              193  \n",
       "unique   0.0    0.0           0.0    0.0               93  \n",
       "top      NaN    NaN           NaN    NaN             весь  \n",
       "freq     NaN    NaN           NaN    NaN               24  "
      ]
     },
     "execution_count": 288,
     "metadata": {},
     "output_type": "execute_result"
    }
   ],
   "source": [
    "adj = new_bias[new_bias[\"Часть речи\"]=='ADJF']\n",
    "adj.describe()"
   ]
  },
  {
   "cell_type": "markdown",
   "metadata": {},
   "source": [
    "Самое частотное слово среди прилагательным анализатор посчитал слово все:), которое встречается 11 раз. "
   ]
  },
  {
   "cell_type": "code",
   "execution_count": 289,
   "metadata": {},
   "outputs": [
    {
     "data": {
      "text/html": [
       "<div>\n",
       "<style>\n",
       "    .dataframe thead tr:only-child th {\n",
       "        text-align: right;\n",
       "    }\n",
       "\n",
       "    .dataframe thead th {\n",
       "        text-align: left;\n",
       "    }\n",
       "\n",
       "    .dataframe tbody tr th {\n",
       "        vertical-align: top;\n",
       "    }\n",
       "</style>\n",
       "<table border=\"1\" class=\"dataframe\">\n",
       "  <thead>\n",
       "    <tr style=\"text-align: right;\">\n",
       "      <th></th>\n",
       "      <th>Слово</th>\n",
       "      <th>Часть речи</th>\n",
       "      <th>Одушевленность</th>\n",
       "      <th>Вид</th>\n",
       "      <th>Падеж</th>\n",
       "      <th>Род</th>\n",
       "      <th>Наклонение</th>\n",
       "      <th>Число</th>\n",
       "      <th>Лицо</th>\n",
       "      <th>Время</th>\n",
       "      <th>Переходность</th>\n",
       "      <th>Залог</th>\n",
       "      <th>Нормальная форма</th>\n",
       "    </tr>\n",
       "  </thead>\n",
       "  <tbody>\n",
       "    <tr>\n",
       "      <th>count</th>\n",
       "      <td>206</td>\n",
       "      <td>206</td>\n",
       "      <td>0.0</td>\n",
       "      <td>0.0</td>\n",
       "      <td>0.0</td>\n",
       "      <td>0.0</td>\n",
       "      <td>0.0</td>\n",
       "      <td>0.0</td>\n",
       "      <td>0.0</td>\n",
       "      <td>0.0</td>\n",
       "      <td>0.0</td>\n",
       "      <td>0.0</td>\n",
       "      <td>206</td>\n",
       "    </tr>\n",
       "    <tr>\n",
       "      <th>unique</th>\n",
       "      <td>110</td>\n",
       "      <td>1</td>\n",
       "      <td>0.0</td>\n",
       "      <td>0.0</td>\n",
       "      <td>0.0</td>\n",
       "      <td>0.0</td>\n",
       "      <td>0.0</td>\n",
       "      <td>0.0</td>\n",
       "      <td>0.0</td>\n",
       "      <td>0.0</td>\n",
       "      <td>0.0</td>\n",
       "      <td>0.0</td>\n",
       "      <td>102</td>\n",
       "    </tr>\n",
       "    <tr>\n",
       "      <th>top</th>\n",
       "      <td>тут</td>\n",
       "      <td>ADVB</td>\n",
       "      <td>NaN</td>\n",
       "      <td>NaN</td>\n",
       "      <td>NaN</td>\n",
       "      <td>NaN</td>\n",
       "      <td>NaN</td>\n",
       "      <td>NaN</td>\n",
       "      <td>NaN</td>\n",
       "      <td>NaN</td>\n",
       "      <td>NaN</td>\n",
       "      <td>NaN</td>\n",
       "      <td>наверное</td>\n",
       "    </tr>\n",
       "    <tr>\n",
       "      <th>freq</th>\n",
       "      <td>9</td>\n",
       "      <td>206</td>\n",
       "      <td>NaN</td>\n",
       "      <td>NaN</td>\n",
       "      <td>NaN</td>\n",
       "      <td>NaN</td>\n",
       "      <td>NaN</td>\n",
       "      <td>NaN</td>\n",
       "      <td>NaN</td>\n",
       "      <td>NaN</td>\n",
       "      <td>NaN</td>\n",
       "      <td>NaN</td>\n",
       "      <td>11</td>\n",
       "    </tr>\n",
       "  </tbody>\n",
       "</table>\n",
       "</div>"
      ],
      "text/plain": [
       "       Слово Часть речи  Одушевленность  Вид  Падеж  Род  Наклонение  Число  \\\n",
       "count    206        206             0.0  0.0    0.0  0.0         0.0    0.0   \n",
       "unique   110          1             0.0  0.0    0.0  0.0         0.0    0.0   \n",
       "top      тут       ADVB             NaN  NaN    NaN  NaN         NaN    NaN   \n",
       "freq       9        206             NaN  NaN    NaN  NaN         NaN    NaN   \n",
       "\n",
       "        Лицо  Время  Переходность  Залог Нормальная форма  \n",
       "count    0.0    0.0           0.0    0.0              206  \n",
       "unique   0.0    0.0           0.0    0.0              102  \n",
       "top      NaN    NaN           NaN    NaN         наверное  \n",
       "freq     NaN    NaN           NaN    NaN               11  "
      ]
     },
     "execution_count": 289,
     "metadata": {},
     "output_type": "execute_result"
    }
   ],
   "source": [
    "adv = new_bias[new_bias[\"Часть речи\"]=='ADVB']\n",
    "adv.describe()"
   ]
  },
  {
   "cell_type": "markdown",
   "metadata": {},
   "source": [
    "Самое частое наречие - тут, встречается 9 раз."
   ]
  },
  {
   "cell_type": "code",
   "execution_count": 290,
   "metadata": {},
   "outputs": [
    {
     "data": {
      "text/html": [
       "<div>\n",
       "<style>\n",
       "    .dataframe thead tr:only-child th {\n",
       "        text-align: right;\n",
       "    }\n",
       "\n",
       "    .dataframe thead th {\n",
       "        text-align: left;\n",
       "    }\n",
       "\n",
       "    .dataframe tbody tr th {\n",
       "        vertical-align: top;\n",
       "    }\n",
       "</style>\n",
       "<table border=\"1\" class=\"dataframe\">\n",
       "  <thead>\n",
       "    <tr style=\"text-align: right;\">\n",
       "      <th></th>\n",
       "      <th>Слово</th>\n",
       "      <th>Часть речи</th>\n",
       "      <th>Одушевленность</th>\n",
       "      <th>Вид</th>\n",
       "      <th>Падеж</th>\n",
       "      <th>Род</th>\n",
       "      <th>Наклонение</th>\n",
       "      <th>Число</th>\n",
       "      <th>Лицо</th>\n",
       "      <th>Время</th>\n",
       "      <th>Переходность</th>\n",
       "      <th>Залог</th>\n",
       "      <th>Нормальная форма</th>\n",
       "    </tr>\n",
       "  </thead>\n",
       "  <tbody>\n",
       "    <tr>\n",
       "      <th>count</th>\n",
       "      <td>325</td>\n",
       "      <td>325</td>\n",
       "      <td>0.0</td>\n",
       "      <td>325</td>\n",
       "      <td>0.0</td>\n",
       "      <td>184</td>\n",
       "      <td>325</td>\n",
       "      <td>325</td>\n",
       "      <td>107</td>\n",
       "      <td>309</td>\n",
       "      <td>325</td>\n",
       "      <td>0.0</td>\n",
       "      <td>325</td>\n",
       "    </tr>\n",
       "    <tr>\n",
       "      <th>unique</th>\n",
       "      <td>231</td>\n",
       "      <td>1</td>\n",
       "      <td>0.0</td>\n",
       "      <td>2</td>\n",
       "      <td>0.0</td>\n",
       "      <td>3</td>\n",
       "      <td>2</td>\n",
       "      <td>2</td>\n",
       "      <td>3</td>\n",
       "      <td>3</td>\n",
       "      <td>2</td>\n",
       "      <td>0.0</td>\n",
       "      <td>193</td>\n",
       "    </tr>\n",
       "    <tr>\n",
       "      <th>top</th>\n",
       "      <td>было</td>\n",
       "      <td>VERB</td>\n",
       "      <td>NaN</td>\n",
       "      <td>perf</td>\n",
       "      <td>NaN</td>\n",
       "      <td>femn</td>\n",
       "      <td>indc</td>\n",
       "      <td>sing</td>\n",
       "      <td>3per</td>\n",
       "      <td>past</td>\n",
       "      <td>intr</td>\n",
       "      <td>NaN</td>\n",
       "      <td>быть</td>\n",
       "    </tr>\n",
       "    <tr>\n",
       "      <th>freq</th>\n",
       "      <td>12</td>\n",
       "      <td>325</td>\n",
       "      <td>NaN</td>\n",
       "      <td>178</td>\n",
       "      <td>NaN</td>\n",
       "      <td>136</td>\n",
       "      <td>309</td>\n",
       "      <td>265</td>\n",
       "      <td>53</td>\n",
       "      <td>200</td>\n",
       "      <td>219</td>\n",
       "      <td>NaN</td>\n",
       "      <td>34</td>\n",
       "    </tr>\n",
       "  </tbody>\n",
       "</table>\n",
       "</div>"
      ],
      "text/plain": [
       "       Слово Часть речи  Одушевленность   Вид  Падеж   Род Наклонение Число  \\\n",
       "count    325        325             0.0   325    0.0   184        325   325   \n",
       "unique   231          1             0.0     2    0.0     3          2     2   \n",
       "top     было       VERB             NaN  perf    NaN  femn       indc  sing   \n",
       "freq      12        325             NaN   178    NaN   136        309   265   \n",
       "\n",
       "        Лицо Время Переходность  Залог Нормальная форма  \n",
       "count    107   309          325    0.0              325  \n",
       "unique     3     3            2    0.0              193  \n",
       "top     3per  past         intr    NaN             быть  \n",
       "freq      53   200          219    NaN               34  "
      ]
     },
     "execution_count": 290,
     "metadata": {},
     "output_type": "execute_result"
    }
   ],
   "source": [
    "ver = new_bias[new_bias[\"Часть речи\"]=='VERB']\n",
    "ver.describe()"
   ]
  },
  {
   "cell_type": "markdown",
   "metadata": {},
   "source": [
    "Самый частый глагол - было(12 раз)."
   ]
  },
  {
   "cell_type": "markdown",
   "metadata": {},
   "source": [
    "### 7)Общее число словоупотреблений. (число слов в тексте)"
   ]
  },
  {
   "cell_type": "code",
   "execution_count": 291,
   "metadata": {},
   "outputs": [
    {
     "name": "stdout",
     "output_type": "stream",
     "text": [
      "Количество словоупотреблений 2133\n"
     ]
    }
   ],
   "source": [
    "words = alice_text.split()\n",
    "exclude = set(string.punctuation)\n",
    "exclude.add('- ')\n",
    "def test_set(s):\n",
    "    return ''.join(ch for ch in s if ch not in exclude)\n",
    "words = [test_set(i) for i in words]\n",
    "words = [i for i in words if i != '']\n",
    "print ('Количество словоупотреблений',len(words))\n"
   ]
  },
  {
   "cell_type": "markdown",
   "metadata": {},
   "source": [
    "### 8) Число различных словоформ."
   ]
  },
  {
   "cell_type": "code",
   "execution_count": 292,
   "metadata": {},
   "outputs": [
    {
     "name": "stdout",
     "output_type": "stream",
     "text": [
      "Количество словоформ 1048\n"
     ]
    }
   ],
   "source": [
    "print ('Количество словоформ',len(forms))\n"
   ]
  },
  {
   "cell_type": "markdown",
   "metadata": {},
   "source": [
    "### 9) Наиболее частотные морфологические формы глаголов (время/лицо/число)."
   ]
  },
  {
   "cell_type": "markdown",
   "metadata": {},
   "source": [
    "Опишем поподробней глаголы."
   ]
  },
  {
   "cell_type": "code",
   "execution_count": 293,
   "metadata": {},
   "outputs": [
    {
     "data": {
      "text/plain": [
       "count      333\n",
       "unique       3\n",
       "top       past\n",
       "freq       212\n",
       "Name: Время, dtype: object"
      ]
     },
     "execution_count": 293,
     "metadata": {},
     "output_type": "execute_result"
    }
   ],
   "source": [
    "new_bias[\"Время\"].describe()"
   ]
  },
  {
   "cell_type": "code",
   "execution_count": 294,
   "metadata": {},
   "outputs": [
    {
     "data": {
      "text/plain": [
       "count      291\n",
       "unique       3\n",
       "top       3per\n",
       "freq       153\n",
       "Name: Лицо, dtype: object"
      ]
     },
     "execution_count": 294,
     "metadata": {},
     "output_type": "execute_result"
    }
   ],
   "source": [
    "new_bias[\"Лицо\"].describe()"
   ]
  },
  {
   "cell_type": "code",
   "execution_count": 295,
   "metadata": {},
   "outputs": [
    {
     "data": {
      "text/plain": [
       "count     1121\n",
       "unique       2\n",
       "top       sing\n",
       "freq       916\n",
       "Name: Число, dtype: object"
      ]
     },
     "execution_count": 295,
     "metadata": {},
     "output_type": "execute_result"
    }
   ],
   "source": [
    "new_bias[\"Число\"].describe()"
   ]
  },
  {
   "cell_type": "markdown",
   "metadata": {},
   "source": [
    "Самое частое время - прошедшее.\n",
    "\n",
    "\n",
    "Самое частое лицо - 3-е лицо.\n",
    "\n",
    "\n",
    "Самое частое число - единственное.\n"
   ]
  },
  {
   "cell_type": "markdown",
   "metadata": {},
   "source": [
    "Мы развершили анализ одного из двух тектов. Теперь давайте взглянем на первую главу книги Джека Лондона \"Мартин Иден\". Она является немного \n",
    "больше текста из предыдущего пример. С ним мы, надеюсь, сможем провести некоторый сравнительный анализ между двумя текстами."
   ]
  },
  {
   "cell_type": "code",
   "execution_count": 296,
   "metadata": {
    "collapsed": true
   },
   "outputs": [],
   "source": [
    "martin_text = open(\"/Users/dianagajnutdinova/text.txt\").read()\n",
    "words = martin_text.split()"
   ]
  },
  {
   "cell_type": "code",
   "execution_count": 297,
   "metadata": {},
   "outputs": [
    {
     "name": "stdout",
     "output_type": "stream",
     "text": [
      "3669 длина неуникального списка\n",
      "1774 длина уникального списка\n"
     ]
    }
   ],
   "source": [
    "exclude = set(string.punctuation)\n",
    "exclude.add('- ')\n",
    "exclude.remove('-')\n",
    "def test_set(s):\n",
    "    return ''.join(ch for ch in s if ch not in exclude)\n",
    "words = [test_set(i) for i in words]\n",
    "words = [i for i in words if i != '' ]\n",
    "print (len(words), 'длина неуникального списка')\n",
    "forms = set(words)\n",
    "print (len(forms), 'длина уникального списка')\n"
   ]
  },
  {
   "cell_type": "markdown",
   "metadata": {},
   "source": [
    "Как я уже говорила, текст Джека Лондона немного длиннее(примерно на 1000 символов)."
   ]
  },
  {
   "cell_type": "code",
   "execution_count": 298,
   "metadata": {
    "collapsed": true
   },
   "outputs": [],
   "source": [
    "forms = list(forms)\n",
    "bias = pd.DataFrame(columns=['Слово','Часть речи','Одушевленность', 'Вид','Падеж','Род','Наклонение','Число',\n",
    "                             'Лицо','Время','Переходность','Залог','Нормальная форма'],\n",
    "                      index=[i for i in range(len(forms))])\n",
    "bias[\"Слово\"] = forms\n",
    "bias[\"Часть речи\"] = [morph.parse(i)[0].tag.POS for i in forms]\n",
    "bias['Одушевленность'] = [morph.parse(i)[0].tag.animacy for i in forms]\n",
    "bias['Вид'] = [morph.parse(i)[0].tag.aspect for i in forms]\n",
    "bias['Падеж'] = [morph.parse(i)[0].tag.case for i in forms]\n",
    "bias['Род'] = [morph.parse(i)[0].tag.gender for i in forms]\n",
    "bias['Наклонение'] = [morph.parse(i)[0].tag.mood for i in forms]\n",
    "bias['Число'] = [morph.parse(i)[0].tag.number for i in forms]\n",
    "bias['Лицо'] = [morph.parse(i)[0].tag.person for i in forms]\n",
    "bias['Время'] = [morph.parse(i)[0].tag.tense for i in forms]\n",
    "bias['Переходность'] = [morph.parse(i)[0].tag.transitivity for i in forms]\n",
    "bias['Залог'] = [morph.parse(i)[0].tag.voice for i in forms]\n",
    "bias[\"Нормальная форма\"] = [morph.parse(i)[0].normal_form for i in forms]\n",
    "bias.to_html(\"martin.html\")"
   ]
  },
  {
   "cell_type": "markdown",
   "metadata": {},
   "source": [
    "Как и в предыдущем примере, табличку можно посмотреть отдельно, она будет в отдельном файле martin.html"
   ]
  },
  {
   "cell_type": "markdown",
   "metadata": {},
   "source": [
    "Начнем вычислять статистические характеристики. Выполним сбор тех же характеристик, что и в прошлом пункте, чтобы сравнить результаты."
   ]
  },
  {
   "cell_type": "code",
   "execution_count": 299,
   "metadata": {
    "collapsed": true
   },
   "outputs": [],
   "source": [
    "new_bias = pd.DataFrame(columns=['Слово','Часть речи','Одушевленность', 'Вид','Падеж','Род','Наклонение','Число',\n",
    "                             'Лицо','Время','Переходность','Залог','Нормальная форма'],\n",
    "                      index=[i for i in range(len(words))])\n",
    "new_bias[\"Слово\"] = words\n",
    "new_bias[\"Часть речи\"] = [morph.parse(i)[0].tag.POS for i in words]\n",
    "new_bias['Одушевленность'] = [morph.parse(i)[0].tag.animacy for i in words]\n",
    "new_bias['Вид'] = [morph.parse(i)[0].tag.aspect for i in words]\n",
    "new_bias['Падеж'] = [morph.parse(i)[0].tag.case for i in words]\n",
    "new_bias['Род'] = [morph.parse(i)[0].tag.gender for i in words]\n",
    "new_bias['Наклонение'] = [morph.parse(i)[0].tag.mood for i in words]\n",
    "new_bias['Число'] = [morph.parse(i)[0].tag.number for i in words]\n",
    "new_bias['Лицо'] = [morph.parse(i)[0].tag.person for i in words]\n",
    "new_bias['Время'] = [morph.parse(i)[0].tag.tense for i in words]\n",
    "new_bias['Переходность'] = [morph.parse(i)[0].tag.transitivity for i in words]\n",
    "new_bias['Залог'] = [morph.parse(i)[0].tag.voice for i in words]\n",
    "new_bias[\"Нормальная форма\"] = [morph.parse(i)[0].normal_form for i in words]"
   ]
  },
  {
   "cell_type": "markdown",
   "metadata": {},
   "source": [
    "### 1) Длина предложения."
   ]
  },
  {
   "cell_type": "code",
   "execution_count": 300,
   "metadata": {},
   "outputs": [
    {
     "name": "stdout",
     "output_type": "stream",
     "text": [
      "284 предложений\n"
     ]
    },
    {
     "data": {
      "text/plain": [
       "13.704225352112676"
      ]
     },
     "execution_count": 300,
     "metadata": {},
     "output_type": "execute_result"
    }
   ],
   "source": [
    "print (len(martin_text.replace('\\n   ','').split('.')), 'предложений')\n",
    "lens = [len(i.split(' ')) for i in martin_text.replace('\\n   ','').split('.')]\n",
    "c = 0\n",
    "for i in lens:\n",
    "    c += i\n",
    "c/len(martin_text.replace('\\n   ','').split('.'))"
   ]
  },
  {
   "cell_type": "markdown",
   "metadata": {},
   "source": [
    "Средняя длина предложений в новом тексте состовляет почти 14 слов . В предыдущем тексте она была 18. "
   ]
  },
  {
   "cell_type": "markdown",
   "metadata": {},
   "source": [
    "### 2) Наиболее частый падеж."
   ]
  },
  {
   "cell_type": "code",
   "execution_count": 301,
   "metadata": {},
   "outputs": [
    {
     "data": {
      "text/plain": [
       "count     1743\n",
       "unique       7\n",
       "top       nomn\n",
       "freq       654\n",
       "Name: Падеж, dtype: object"
      ]
     },
     "execution_count": 301,
     "metadata": {},
     "output_type": "execute_result"
    }
   ],
   "source": [
    "new_bias[\"Падеж\"].describe()"
   ]
  },
  {
   "cell_type": "markdown",
   "metadata": {},
   "source": [
    "Логично предположить, что именительный падеж снова будет самым популярным в тексте. Однако в новом отрывке его процентное содержание состовляет\n",
    "практически 37 процентов, в то время как в прошлом было около 50 процентов."
   ]
  },
  {
   "cell_type": "markdown",
   "metadata": {},
   "source": [
    "### 3) Относительная частота падежей."
   ]
  },
  {
   "cell_type": "code",
   "execution_count": 302,
   "metadata": {},
   "outputs": [
    {
     "data": {
      "text/html": [
       "<div>\n",
       "<style>\n",
       "    .dataframe thead tr:only-child th {\n",
       "        text-align: right;\n",
       "    }\n",
       "\n",
       "    .dataframe thead th {\n",
       "        text-align: left;\n",
       "    }\n",
       "\n",
       "    .dataframe tbody tr th {\n",
       "        vertical-align: top;\n",
       "    }\n",
       "</style>\n",
       "<table border=\"1\" class=\"dataframe\">\n",
       "  <thead>\n",
       "    <tr style=\"text-align: right;\">\n",
       "      <th></th>\n",
       "      <th>Частота</th>\n",
       "    </tr>\n",
       "  </thead>\n",
       "  <tbody>\n",
       "    <tr>\n",
       "      <th>Именительный падеж</th>\n",
       "      <td>0.375215</td>\n",
       "    </tr>\n",
       "    <tr>\n",
       "      <th>Родительный падеж</th>\n",
       "      <td>0.258749</td>\n",
       "    </tr>\n",
       "    <tr>\n",
       "      <th>Винительный падеж</th>\n",
       "      <td>0.145152</td>\n",
       "    </tr>\n",
       "    <tr>\n",
       "      <th>Дательный падеж</th>\n",
       "      <td>0.067699</td>\n",
       "    </tr>\n",
       "    <tr>\n",
       "      <th>Творительный падеж</th>\n",
       "      <td>0.077453</td>\n",
       "    </tr>\n",
       "    <tr>\n",
       "      <th>Предложный падеж</th>\n",
       "      <td>0.072863</td>\n",
       "    </tr>\n",
       "  </tbody>\n",
       "</table>\n",
       "</div>"
      ],
      "text/plain": [
       "                     Частота\n",
       "Именительный падеж  0.375215\n",
       "Родительный падеж   0.258749\n",
       "Винительный падеж   0.145152\n",
       "Дательный падеж     0.067699\n",
       "Творительный падеж  0.077453\n",
       "Предложный падеж    0.072863"
      ]
     },
     "execution_count": 302,
     "metadata": {},
     "output_type": "execute_result"
    }
   ],
   "source": [
    "\n",
    "cases_table = pd.DataFrame(columns=['Частота'], index = ['Именительный падеж',\n",
    "'Родительный падеж','Винительный падеж','Дательный падеж','Творительный падеж','Предложный падеж'])\n",
    "freq = [len(new_bias[new_bias[\"Падеж\"]=='nomn'])/1743, len(new_bias[new_bias[\"Падеж\"]=='gent'])/1743,len(new_bias[new_bias[\"Падеж\"]=='accs'])/1743,\n",
    "       len(new_bias[new_bias[\"Падеж\"]=='datv'])/1743,len(new_bias[new_bias[\"Падеж\"]=='ablt'])/1743,len(new_bias[new_bias[\"Падеж\"]=='loct'])/1743]\n",
    "cases_table['Частота'] = freq\n",
    "cases_table"
   ]
  },
  {
   "cell_type": "markdown",
   "metadata": {},
   "source": [
    "Самый редкий падеж в этом тексте также предложный(меньше одного процента, как и в предыдущем тексте)."
   ]
  },
  {
   "cell_type": "markdown",
   "metadata": {},
   "source": [
    "### 4) Процент разных частей речи."
   ]
  },
  {
   "cell_type": "code",
   "execution_count": 303,
   "metadata": {},
   "outputs": [
    {
     "data": {
      "text/html": [
       "<div>\n",
       "<style>\n",
       "    .dataframe thead tr:only-child th {\n",
       "        text-align: right;\n",
       "    }\n",
       "\n",
       "    .dataframe thead th {\n",
       "        text-align: left;\n",
       "    }\n",
       "\n",
       "    .dataframe tbody tr th {\n",
       "        vertical-align: top;\n",
       "    }\n",
       "</style>\n",
       "<table border=\"1\" class=\"dataframe\">\n",
       "  <thead>\n",
       "    <tr style=\"text-align: right;\">\n",
       "      <th></th>\n",
       "      <th>Процентное содержание</th>\n",
       "    </tr>\n",
       "  </thead>\n",
       "  <tbody>\n",
       "    <tr>\n",
       "      <th>Глагол</th>\n",
       "      <td>27.710843</td>\n",
       "    </tr>\n",
       "    <tr>\n",
       "      <th>Существительное</th>\n",
       "      <td>47.676420</td>\n",
       "    </tr>\n",
       "    <tr>\n",
       "      <th>Прилагательное (полное)</th>\n",
       "      <td>23.235800</td>\n",
       "    </tr>\n",
       "    <tr>\n",
       "      <th>Местоимение-существительное</th>\n",
       "      <td>26.219162</td>\n",
       "    </tr>\n",
       "    <tr>\n",
       "      <th>Причастие (полное)</th>\n",
       "      <td>2.696500</td>\n",
       "    </tr>\n",
       "    <tr>\n",
       "      <th>Предлог</th>\n",
       "      <td>20.367183</td>\n",
       "    </tr>\n",
       "    <tr>\n",
       "      <th>Деепричастие</th>\n",
       "      <td>2.639128</td>\n",
       "    </tr>\n",
       "    <tr>\n",
       "      <th>Наречие</th>\n",
       "      <td>12.105565</td>\n",
       "    </tr>\n",
       "    <tr>\n",
       "      <th>Глагол (инфинитив)</th>\n",
       "      <td>5.048766</td>\n",
       "    </tr>\n",
       "    <tr>\n",
       "      <th>Частица</th>\n",
       "      <td>10.786001</td>\n",
       "    </tr>\n",
       "    <tr>\n",
       "      <th>Прилагательное (краткое)</th>\n",
       "      <td>2.237522</td>\n",
       "    </tr>\n",
       "    <tr>\n",
       "      <th>Союз</th>\n",
       "      <td>22.317843</td>\n",
       "    </tr>\n",
       "    <tr>\n",
       "      <th>Причастие (краткое)</th>\n",
       "      <td>0.229489</td>\n",
       "    </tr>\n",
       "    <tr>\n",
       "      <th>Числительное</th>\n",
       "      <td>0.172117</td>\n",
       "    </tr>\n",
       "    <tr>\n",
       "      <th>Предикатив</th>\n",
       "      <td>0.573723</td>\n",
       "    </tr>\n",
       "    <tr>\n",
       "      <th>Компаратив</th>\n",
       "      <td>0.458979</td>\n",
       "    </tr>\n",
       "    <tr>\n",
       "      <th>Междометие</th>\n",
       "      <td>0.286862</td>\n",
       "    </tr>\n",
       "  </tbody>\n",
       "</table>\n",
       "</div>"
      ],
      "text/plain": [
       "                             Процентное содержание\n",
       "Глагол                                   27.710843\n",
       "Существительное                          47.676420\n",
       "Прилагательное (полное)                  23.235800\n",
       "Местоимение-существительное              26.219162\n",
       "Причастие (полное)                        2.696500\n",
       "Предлог                                  20.367183\n",
       "Деепричастие                              2.639128\n",
       "Наречие                                  12.105565\n",
       "Глагол (инфинитив)                        5.048766\n",
       "Частица                                  10.786001\n",
       "Прилагательное (краткое)                  2.237522\n",
       "Союз                                     22.317843\n",
       "Причастие (краткое)                       0.229489\n",
       "Числительное                              0.172117\n",
       "Предикатив                                0.573723\n",
       "Компаратив                                0.458979\n",
       "Междометие                                0.286862"
      ]
     },
     "execution_count": 303,
     "metadata": {},
     "output_type": "execute_result"
    }
   ],
   "source": [
    "speech = ['Глагол','Существительное','Прилагательное (полное)','Местоимение-существительное','Причастие (полное)','Предлог',\n",
    " 'Деепричастие','Наречие','Глагол (инфинитив)','Частица','Прилагательное (краткое)','Союз','Причастие (краткое)','Числительное',\n",
    " 'Предикатив' ,'Компаратив' ,'Междометие']\n",
    "speech_part_table = pd.DataFrame(columns=['Процентное содержание'], index = speech)\n",
    "en_speech = ['VERB', 'NOUN', 'ADJF', 'NPRO', 'PRTF', 'PREP',  'GRND',\n",
    "       'ADVB', 'INFN', 'PRCL', 'ADJS', 'CONJ', 'PRTS', 'NUMR', 'PRED',\n",
    "       'COMP', 'INTJ']\n",
    "freq = [len(new_bias[new_bias[\"Часть речи\"]==i])/1743*100 for i in en_speech]\n",
    "speech_part_table['Процентное содержание'] = freq\n",
    "speech_part_table"
   ]
  },
  {
   "cell_type": "markdown",
   "metadata": {},
   "source": [
    "Самая частая часть речи - существительное, совпадает с предыдущим. Но наконец-то появилось первое заметное различие, не совпадает самая редкая часть речи.\n",
    "В этом тексте это числительное, а в тексте про Алису это было причастие."
   ]
  },
  {
   "cell_type": "markdown",
   "metadata": {},
   "source": [
    "### 5) Самые частотные слова и их относительная частота."
   ]
  },
  {
   "cell_type": "code",
   "execution_count": 304,
   "metadata": {
    "collapsed": true
   },
   "outputs": [],
   "source": [
    "from collections import Counter\n",
    "exclude = set(string.punctuation)\n",
    "def test_set(s):\n",
    "    return ''.join(ch for ch in s if ch not in exclude)\n",
    "words = martin_text.split()\n",
    "words = [test_set(i) for i in words]\n",
    "words = [i for i in words if i != '']\n",
    "cap_words = [word.upper() for word in words] #capitalizes all the words\n",
    "\n",
    "word_counts = Counter(cap_words) "
   ]
  },
  {
   "cell_type": "code",
   "execution_count": 305,
   "metadata": {},
   "outputs": [
    {
     "name": "stdout",
     "output_type": "stream",
     "text": [
      "('И', 153) 0.042773273693038856\n",
      "('ОН', 135) 0.03774112384679899\n",
      "('В', 87) 0.024322057590159353\n",
      "('НА', 70) 0.019569471624266144\n",
      "('НЕ', 54) 0.015096449538719598\n",
      "('ЧТО', 54) 0.015096449538719598\n",
      "('ЕГО', 54) 0.015096449538719598\n",
      "('ОНА', 40) 0.01118255521386637\n",
      "('КАК', 38) 0.01062342745317305\n",
      "('С', 35) 0.009784735812133072\n"
     ]
    }
   ],
   "source": [
    "for i in range(10):\n",
    "    print ((word_counts.most_common()[i]), word_counts.most_common()[i][1]/len(words))"
   ]
  },
  {
   "cell_type": "markdown",
   "metadata": {},
   "source": [
    "Самым частым словом снова является предлог \"и\". Однако следующие места отличаются. Предлоги и местоимения неизменно являются лидерами по\n",
    "появлению в текстах."
   ]
  },
  {
   "cell_type": "markdown",
   "metadata": {},
   "source": [
    "### 6) Самые частотные слова основных частей речи (существительные, прилагательные, наречия, глаголы)."
   ]
  },
  {
   "cell_type": "code",
   "execution_count": 306,
   "metadata": {},
   "outputs": [
    {
     "data": {
      "text/html": [
       "<div>\n",
       "<style>\n",
       "    .dataframe thead tr:only-child th {\n",
       "        text-align: right;\n",
       "    }\n",
       "\n",
       "    .dataframe thead th {\n",
       "        text-align: left;\n",
       "    }\n",
       "\n",
       "    .dataframe tbody tr th {\n",
       "        vertical-align: top;\n",
       "    }\n",
       "</style>\n",
       "<table border=\"1\" class=\"dataframe\">\n",
       "  <thead>\n",
       "    <tr style=\"text-align: right;\">\n",
       "      <th></th>\n",
       "      <th>Слово</th>\n",
       "      <th>Часть речи</th>\n",
       "      <th>Одушевленность</th>\n",
       "      <th>Вид</th>\n",
       "      <th>Падеж</th>\n",
       "      <th>Род</th>\n",
       "      <th>Наклонение</th>\n",
       "      <th>Число</th>\n",
       "      <th>Лицо</th>\n",
       "      <th>Время</th>\n",
       "      <th>Переходность</th>\n",
       "      <th>Залог</th>\n",
       "      <th>Нормальная форма</th>\n",
       "    </tr>\n",
       "  </thead>\n",
       "  <tbody>\n",
       "    <tr>\n",
       "      <th>count</th>\n",
       "      <td>831</td>\n",
       "      <td>831</td>\n",
       "      <td>830</td>\n",
       "      <td>0.0</td>\n",
       "      <td>831</td>\n",
       "      <td>828</td>\n",
       "      <td>0.0</td>\n",
       "      <td>831</td>\n",
       "      <td>0.0</td>\n",
       "      <td>0.0</td>\n",
       "      <td>0.0</td>\n",
       "      <td>0.0</td>\n",
       "      <td>831</td>\n",
       "    </tr>\n",
       "    <tr>\n",
       "      <th>unique</th>\n",
       "      <td>610</td>\n",
       "      <td>1</td>\n",
       "      <td>2</td>\n",
       "      <td>0.0</td>\n",
       "      <td>7</td>\n",
       "      <td>3</td>\n",
       "      <td>0.0</td>\n",
       "      <td>2</td>\n",
       "      <td>0.0</td>\n",
       "      <td>0.0</td>\n",
       "      <td>0.0</td>\n",
       "      <td>0.0</td>\n",
       "      <td>447</td>\n",
       "    </tr>\n",
       "    <tr>\n",
       "      <th>top</th>\n",
       "      <td>книги</td>\n",
       "      <td>NOUN</td>\n",
       "      <td>inan</td>\n",
       "      <td>NaN</td>\n",
       "      <td>gent</td>\n",
       "      <td>femn</td>\n",
       "      <td>NaN</td>\n",
       "      <td>sing</td>\n",
       "      <td>NaN</td>\n",
       "      <td>NaN</td>\n",
       "      <td>NaN</td>\n",
       "      <td>NaN</td>\n",
       "      <td>книга</td>\n",
       "    </tr>\n",
       "    <tr>\n",
       "      <th>freq</th>\n",
       "      <td>8</td>\n",
       "      <td>831</td>\n",
       "      <td>688</td>\n",
       "      <td>NaN</td>\n",
       "      <td>252</td>\n",
       "      <td>342</td>\n",
       "      <td>NaN</td>\n",
       "      <td>683</td>\n",
       "      <td>NaN</td>\n",
       "      <td>NaN</td>\n",
       "      <td>NaN</td>\n",
       "      <td>NaN</td>\n",
       "      <td>18</td>\n",
       "    </tr>\n",
       "  </tbody>\n",
       "</table>\n",
       "</div>"
      ],
      "text/plain": [
       "        Слово Часть речи Одушевленность  Вид Падеж   Род  Наклонение Число  \\\n",
       "count     831        831            830  0.0   831   828         0.0   831   \n",
       "unique    610          1              2  0.0     7     3         0.0     2   \n",
       "top     книги       NOUN           inan  NaN  gent  femn         NaN  sing   \n",
       "freq        8        831            688  NaN   252   342         NaN   683   \n",
       "\n",
       "        Лицо  Время  Переходность  Залог Нормальная форма  \n",
       "count    0.0    0.0           0.0    0.0              831  \n",
       "unique   0.0    0.0           0.0    0.0              447  \n",
       "top      NaN    NaN           NaN    NaN            книга  \n",
       "freq     NaN    NaN           NaN    NaN               18  "
      ]
     },
     "execution_count": 306,
     "metadata": {},
     "output_type": "execute_result"
    }
   ],
   "source": [
    "nouns = new_bias[new_bias[\"Часть речи\"]=='NOUN']\n",
    "nouns.describe()"
   ]
  },
  {
   "cell_type": "markdown",
   "metadata": {},
   "source": [
    "Неудивительно, что в романе Мартин Иден слово книга является самым частым среди всех существительных(8 раз)"
   ]
  },
  {
   "cell_type": "code",
   "execution_count": 307,
   "metadata": {},
   "outputs": [
    {
     "data": {
      "text/html": [
       "<div>\n",
       "<style>\n",
       "    .dataframe thead tr:only-child th {\n",
       "        text-align: right;\n",
       "    }\n",
       "\n",
       "    .dataframe thead th {\n",
       "        text-align: left;\n",
       "    }\n",
       "\n",
       "    .dataframe tbody tr th {\n",
       "        vertical-align: top;\n",
       "    }\n",
       "</style>\n",
       "<table border=\"1\" class=\"dataframe\">\n",
       "  <thead>\n",
       "    <tr style=\"text-align: right;\">\n",
       "      <th></th>\n",
       "      <th>Слово</th>\n",
       "      <th>Часть речи</th>\n",
       "      <th>Одушевленность</th>\n",
       "      <th>Вид</th>\n",
       "      <th>Падеж</th>\n",
       "      <th>Род</th>\n",
       "      <th>Наклонение</th>\n",
       "      <th>Число</th>\n",
       "      <th>Лицо</th>\n",
       "      <th>Время</th>\n",
       "      <th>Переходность</th>\n",
       "      <th>Залог</th>\n",
       "      <th>Нормальная форма</th>\n",
       "    </tr>\n",
       "  </thead>\n",
       "  <tbody>\n",
       "    <tr>\n",
       "      <th>count</th>\n",
       "      <td>405</td>\n",
       "      <td>405</td>\n",
       "      <td>24</td>\n",
       "      <td>0.0</td>\n",
       "      <td>405</td>\n",
       "      <td>280</td>\n",
       "      <td>0.0</td>\n",
       "      <td>405</td>\n",
       "      <td>0.0</td>\n",
       "      <td>0.0</td>\n",
       "      <td>0.0</td>\n",
       "      <td>0.0</td>\n",
       "      <td>405</td>\n",
       "    </tr>\n",
       "    <tr>\n",
       "      <th>unique</th>\n",
       "      <td>301</td>\n",
       "      <td>1</td>\n",
       "      <td>1</td>\n",
       "      <td>0.0</td>\n",
       "      <td>6</td>\n",
       "      <td>3</td>\n",
       "      <td>0.0</td>\n",
       "      <td>2</td>\n",
       "      <td>0.0</td>\n",
       "      <td>0.0</td>\n",
       "      <td>0.0</td>\n",
       "      <td>0.0</td>\n",
       "      <td>193</td>\n",
       "    </tr>\n",
       "    <tr>\n",
       "      <th>top</th>\n",
       "      <td>все</td>\n",
       "      <td>ADJF</td>\n",
       "      <td>inan</td>\n",
       "      <td>NaN</td>\n",
       "      <td>nomn</td>\n",
       "      <td>femn</td>\n",
       "      <td>NaN</td>\n",
       "      <td>sing</td>\n",
       "      <td>NaN</td>\n",
       "      <td>NaN</td>\n",
       "      <td>NaN</td>\n",
       "      <td>NaN</td>\n",
       "      <td>весь</td>\n",
       "    </tr>\n",
       "    <tr>\n",
       "      <th>freq</th>\n",
       "      <td>18</td>\n",
       "      <td>405</td>\n",
       "      <td>24</td>\n",
       "      <td>NaN</td>\n",
       "      <td>153</td>\n",
       "      <td>132</td>\n",
       "      <td>NaN</td>\n",
       "      <td>280</td>\n",
       "      <td>NaN</td>\n",
       "      <td>NaN</td>\n",
       "      <td>NaN</td>\n",
       "      <td>NaN</td>\n",
       "      <td>31</td>\n",
       "    </tr>\n",
       "  </tbody>\n",
       "</table>\n",
       "</div>"
      ],
      "text/plain": [
       "       Слово Часть речи Одушевленность  Вид Падеж   Род  Наклонение Число  \\\n",
       "count    405        405             24  0.0   405   280         0.0   405   \n",
       "unique   301          1              1  0.0     6     3         0.0     2   \n",
       "top      все       ADJF           inan  NaN  nomn  femn         NaN  sing   \n",
       "freq      18        405             24  NaN   153   132         NaN   280   \n",
       "\n",
       "        Лицо  Время  Переходность  Залог Нормальная форма  \n",
       "count    0.0    0.0           0.0    0.0              405  \n",
       "unique   0.0    0.0           0.0    0.0              193  \n",
       "top      NaN    NaN           NaN    NaN             весь  \n",
       "freq     NaN    NaN           NaN    NaN               31  "
      ]
     },
     "execution_count": 307,
     "metadata": {},
     "output_type": "execute_result"
    }
   ],
   "source": [
    "adj = new_bias[new_bias[\"Часть речи\"]=='ADJF']\n",
    "adj.describe()"
   ]
  },
  {
   "cell_type": "markdown",
   "metadata": {},
   "source": [
    "Слово все снова выбилось в топ(18 раз)"
   ]
  },
  {
   "cell_type": "code",
   "execution_count": 308,
   "metadata": {},
   "outputs": [
    {
     "data": {
      "text/html": [
       "<div>\n",
       "<style>\n",
       "    .dataframe thead tr:only-child th {\n",
       "        text-align: right;\n",
       "    }\n",
       "\n",
       "    .dataframe thead th {\n",
       "        text-align: left;\n",
       "    }\n",
       "\n",
       "    .dataframe tbody tr th {\n",
       "        vertical-align: top;\n",
       "    }\n",
       "</style>\n",
       "<table border=\"1\" class=\"dataframe\">\n",
       "  <thead>\n",
       "    <tr style=\"text-align: right;\">\n",
       "      <th></th>\n",
       "      <th>Слово</th>\n",
       "      <th>Часть речи</th>\n",
       "      <th>Одушевленность</th>\n",
       "      <th>Вид</th>\n",
       "      <th>Падеж</th>\n",
       "      <th>Род</th>\n",
       "      <th>Наклонение</th>\n",
       "      <th>Число</th>\n",
       "      <th>Лицо</th>\n",
       "      <th>Время</th>\n",
       "      <th>Переходность</th>\n",
       "      <th>Залог</th>\n",
       "      <th>Нормальная форма</th>\n",
       "    </tr>\n",
       "  </thead>\n",
       "  <tbody>\n",
       "    <tr>\n",
       "      <th>count</th>\n",
       "      <td>211</td>\n",
       "      <td>211</td>\n",
       "      <td>0.0</td>\n",
       "      <td>0.0</td>\n",
       "      <td>0.0</td>\n",
       "      <td>0.0</td>\n",
       "      <td>0.0</td>\n",
       "      <td>0.0</td>\n",
       "      <td>0.0</td>\n",
       "      <td>0.0</td>\n",
       "      <td>0.0</td>\n",
       "      <td>0.0</td>\n",
       "      <td>211</td>\n",
       "    </tr>\n",
       "    <tr>\n",
       "      <th>unique</th>\n",
       "      <td>123</td>\n",
       "      <td>1</td>\n",
       "      <td>0.0</td>\n",
       "      <td>0.0</td>\n",
       "      <td>0.0</td>\n",
       "      <td>0.0</td>\n",
       "      <td>0.0</td>\n",
       "      <td>0.0</td>\n",
       "      <td>0.0</td>\n",
       "      <td>0.0</td>\n",
       "      <td>0.0</td>\n",
       "      <td>0.0</td>\n",
       "      <td>114</td>\n",
       "    </tr>\n",
       "    <tr>\n",
       "      <th>top</th>\n",
       "      <td>вдруг</td>\n",
       "      <td>ADVB</td>\n",
       "      <td>NaN</td>\n",
       "      <td>NaN</td>\n",
       "      <td>NaN</td>\n",
       "      <td>NaN</td>\n",
       "      <td>NaN</td>\n",
       "      <td>NaN</td>\n",
       "      <td>NaN</td>\n",
       "      <td>NaN</td>\n",
       "      <td>NaN</td>\n",
       "      <td>NaN</td>\n",
       "      <td>вдруг</td>\n",
       "    </tr>\n",
       "    <tr>\n",
       "      <th>freq</th>\n",
       "      <td>9</td>\n",
       "      <td>211</td>\n",
       "      <td>NaN</td>\n",
       "      <td>NaN</td>\n",
       "      <td>NaN</td>\n",
       "      <td>NaN</td>\n",
       "      <td>NaN</td>\n",
       "      <td>NaN</td>\n",
       "      <td>NaN</td>\n",
       "      <td>NaN</td>\n",
       "      <td>NaN</td>\n",
       "      <td>NaN</td>\n",
       "      <td>9</td>\n",
       "    </tr>\n",
       "  </tbody>\n",
       "</table>\n",
       "</div>"
      ],
      "text/plain": [
       "        Слово Часть речи  Одушевленность  Вид  Падеж  Род  Наклонение  Число  \\\n",
       "count     211        211             0.0  0.0    0.0  0.0         0.0    0.0   \n",
       "unique    123          1             0.0  0.0    0.0  0.0         0.0    0.0   \n",
       "top     вдруг       ADVB             NaN  NaN    NaN  NaN         NaN    NaN   \n",
       "freq        9        211             NaN  NaN    NaN  NaN         NaN    NaN   \n",
       "\n",
       "        Лицо  Время  Переходность  Залог Нормальная форма  \n",
       "count    0.0    0.0           0.0    0.0              211  \n",
       "unique   0.0    0.0           0.0    0.0              114  \n",
       "top      NaN    NaN           NaN    NaN            вдруг  \n",
       "freq     NaN    NaN           NaN    NaN                9  "
      ]
     },
     "execution_count": 308,
     "metadata": {},
     "output_type": "execute_result"
    }
   ],
   "source": [
    "adv = new_bias[new_bias[\"Часть речи\"]=='ADVB']\n",
    "adv.describe()"
   ]
  },
  {
   "cell_type": "markdown",
   "metadata": {},
   "source": [
    "Наречие вдруг является наиболее популярным(9 раз)."
   ]
  },
  {
   "cell_type": "code",
   "execution_count": 309,
   "metadata": {},
   "outputs": [
    {
     "data": {
      "text/html": [
       "<div>\n",
       "<style>\n",
       "    .dataframe thead tr:only-child th {\n",
       "        text-align: right;\n",
       "    }\n",
       "\n",
       "    .dataframe thead th {\n",
       "        text-align: left;\n",
       "    }\n",
       "\n",
       "    .dataframe tbody tr th {\n",
       "        vertical-align: top;\n",
       "    }\n",
       "</style>\n",
       "<table border=\"1\" class=\"dataframe\">\n",
       "  <thead>\n",
       "    <tr style=\"text-align: right;\">\n",
       "      <th></th>\n",
       "      <th>Слово</th>\n",
       "      <th>Часть речи</th>\n",
       "      <th>Одушевленность</th>\n",
       "      <th>Вид</th>\n",
       "      <th>Падеж</th>\n",
       "      <th>Род</th>\n",
       "      <th>Наклонение</th>\n",
       "      <th>Число</th>\n",
       "      <th>Лицо</th>\n",
       "      <th>Время</th>\n",
       "      <th>Переходность</th>\n",
       "      <th>Залог</th>\n",
       "      <th>Нормальная форма</th>\n",
       "    </tr>\n",
       "  </thead>\n",
       "  <tbody>\n",
       "    <tr>\n",
       "      <th>count</th>\n",
       "      <td>483</td>\n",
       "      <td>483</td>\n",
       "      <td>0.0</td>\n",
       "      <td>483</td>\n",
       "      <td>0.0</td>\n",
       "      <td>364</td>\n",
       "      <td>483</td>\n",
       "      <td>483</td>\n",
       "      <td>59</td>\n",
       "      <td>480</td>\n",
       "      <td>483</td>\n",
       "      <td>0.0</td>\n",
       "      <td>483</td>\n",
       "    </tr>\n",
       "    <tr>\n",
       "      <th>unique</th>\n",
       "      <td>339</td>\n",
       "      <td>1</td>\n",
       "      <td>0.0</td>\n",
       "      <td>2</td>\n",
       "      <td>0.0</td>\n",
       "      <td>3</td>\n",
       "      <td>2</td>\n",
       "      <td>2</td>\n",
       "      <td>3</td>\n",
       "      <td>3</td>\n",
       "      <td>2</td>\n",
       "      <td>0.0</td>\n",
       "      <td>281</td>\n",
       "    </tr>\n",
       "    <tr>\n",
       "      <th>top</th>\n",
       "      <td>было</td>\n",
       "      <td>VERB</td>\n",
       "      <td>NaN</td>\n",
       "      <td>perf</td>\n",
       "      <td>NaN</td>\n",
       "      <td>masc</td>\n",
       "      <td>indc</td>\n",
       "      <td>sing</td>\n",
       "      <td>3per</td>\n",
       "      <td>past</td>\n",
       "      <td>intr</td>\n",
       "      <td>NaN</td>\n",
       "      <td>быть</td>\n",
       "    </tr>\n",
       "    <tr>\n",
       "      <th>freq</th>\n",
       "      <td>14</td>\n",
       "      <td>483</td>\n",
       "      <td>NaN</td>\n",
       "      <td>254</td>\n",
       "      <td>NaN</td>\n",
       "      <td>224</td>\n",
       "      <td>480</td>\n",
       "      <td>418</td>\n",
       "      <td>38</td>\n",
       "      <td>418</td>\n",
       "      <td>264</td>\n",
       "      <td>NaN</td>\n",
       "      <td>39</td>\n",
       "    </tr>\n",
       "  </tbody>\n",
       "</table>\n",
       "</div>"
      ],
      "text/plain": [
       "       Слово Часть речи  Одушевленность   Вид  Падеж   Род Наклонение Число  \\\n",
       "count    483        483             0.0   483    0.0   364        483   483   \n",
       "unique   339          1             0.0     2    0.0     3          2     2   \n",
       "top     было       VERB             NaN  perf    NaN  masc       indc  sing   \n",
       "freq      14        483             NaN   254    NaN   224        480   418   \n",
       "\n",
       "        Лицо Время Переходность  Залог Нормальная форма  \n",
       "count     59   480          483    0.0              483  \n",
       "unique     3     3            2    0.0              281  \n",
       "top     3per  past         intr    NaN             быть  \n",
       "freq      38   418          264    NaN               39  "
      ]
     },
     "execution_count": 309,
     "metadata": {},
     "output_type": "execute_result"
    }
   ],
   "source": [
    "ver = new_bias[new_bias[\"Часть речи\"]=='VERB']\n",
    "ver.describe()"
   ]
  },
  {
   "cell_type": "markdown",
   "metadata": {},
   "source": [
    "Глаголы совпадают. Даже частота(14 и 12) очень похожи."
   ]
  },
  {
   "cell_type": "markdown",
   "metadata": {},
   "source": [
    "### 7)Общее число словоупотреблений. (число слов в тексте)"
   ]
  },
  {
   "cell_type": "code",
   "execution_count": 310,
   "metadata": {},
   "outputs": [
    {
     "name": "stdout",
     "output_type": "stream",
     "text": [
      "Количество словоупотреблений 3577\n"
     ]
    }
   ],
   "source": [
    "words = martin_text.split()\n",
    "exclude = set(string.punctuation)\n",
    "exclude.add('- ')\n",
    "def test_set(s):\n",
    "    return ''.join(ch for ch in s if ch not in exclude)\n",
    "words = [test_set(i) for i in words]\n",
    "words = [i for i in words if i != '']\n",
    "print ('Количество словоупотреблений',len(words))\n"
   ]
  },
  {
   "cell_type": "markdown",
   "metadata": {},
   "source": [
    "### 8) Число различных словоформ."
   ]
  },
  {
   "cell_type": "code",
   "execution_count": 311,
   "metadata": {},
   "outputs": [
    {
     "name": "stdout",
     "output_type": "stream",
     "text": [
      "Количество словоформ 1774\n"
     ]
    }
   ],
   "source": [
    "print ('Количество словоформ',len(forms))\n"
   ]
  },
  {
   "cell_type": "markdown",
   "metadata": {},
   "source": [
    "### 9) Наиболее частотные морфологические формы глаголов (время/лицо/число)."
   ]
  },
  {
   "cell_type": "code",
   "execution_count": 312,
   "metadata": {},
   "outputs": [
    {
     "data": {
      "text/plain": [
       "count      587\n",
       "unique       3\n",
       "top       past\n",
       "freq       475\n",
       "Name: Время, dtype: object"
      ]
     },
     "execution_count": 312,
     "metadata": {},
     "output_type": "execute_result"
    }
   ],
   "source": [
    "new_bias[\"Время\"].describe()"
   ]
  },
  {
   "cell_type": "code",
   "execution_count": 313,
   "metadata": {},
   "outputs": [
    {
     "data": {
      "text/plain": [
       "count      464\n",
       "unique       3\n",
       "top       3per\n",
       "freq       367\n",
       "Name: Лицо, dtype: object"
      ]
     },
     "execution_count": 313,
     "metadata": {},
     "output_type": "execute_result"
    }
   ],
   "source": [
    "new_bias[\"Лицо\"].describe()"
   ]
  },
  {
   "cell_type": "code",
   "execution_count": 314,
   "metadata": {},
   "outputs": [
    {
     "data": {
      "text/plain": [
       "count     2266\n",
       "unique       2\n",
       "top       sing\n",
       "freq      1859\n",
       "Name: Число, dtype: object"
      ]
     },
     "execution_count": 314,
     "metadata": {},
     "output_type": "execute_result"
    }
   ],
   "source": [
    "new_bias[\"Число\"].describe()"
   ]
  },
  {
   "cell_type": "markdown",
   "metadata": {},
   "source": [
    "Совпадат все характеристики (прошедшее время, 3-е лицо, единственное число)."
   ]
  },
  {
   "cell_type": "markdown",
   "metadata": {},
   "source": [
    "Как видно из сравнения, несмотря на то, что мы сравнивали двух разных авторов, которые писали для разных возрастов и в разное время, многие \n",
    "характеристики совпадают. Работать с данной библиотекой было очень удобно. \n",
    "Самым логичным оказалось то, что наиболее частые слова в текстах были предлогами и местоимениями, \n",
    "а самым частым падежом - именительный падеж. \n",
    "Так же интересным фактом для меня оказалось то, что в тексте Джека Лондона, в отличии от первого, самым частым является не слово \"Мартин\", а слово \"книга\". Хотя, это оказывается логичным, ведь главный герой очень увлекался книгами и мечтает стать писателем. \n",
    "Проделанная работа показалась мне довольно интересной. "
   ]
  },
  {
   "cell_type": "code",
   "execution_count": null,
   "metadata": {
    "collapsed": true
   },
   "outputs": [],
   "source": []
  }
 ],
 "metadata": {
  "kernelspec": {
   "display_name": "Python 3",
   "language": "python",
   "name": "python3"
  },
  "language_info": {
   "codemirror_mode": {
    "name": "ipython",
    "version": 3
   },
   "file_extension": ".py",
   "mimetype": "text/x-python",
   "name": "python",
   "nbconvert_exporter": "python",
   "pygments_lexer": "ipython3",
   "version": "3.6.1"
  }
 },
 "nbformat": 4,
 "nbformat_minor": 2
}
